{
 "cells": [
  {
   "cell_type": "code",
   "execution_count": 1,
   "id": "initial_id",
   "metadata": {
    "collapsed": true,
    "ExecuteTime": {
     "end_time": "2024-02-25T06:13:14.896946Z",
     "start_time": "2024-02-25T06:13:13.510355Z"
    }
   },
   "outputs": [],
   "source": [
    "from guardian_ai.privacy_estimation.dataset import (\n",
    "    CFDataset,\n",
    "\tCFDataSplit,\n",
    "    TargetCFData,\n",
    "    AttackModelData\n",
    ")"
   ]
  },
  {
   "cell_type": "code",
   "execution_count": 2,
   "outputs": [],
   "source": [
    "import os"
   ],
   "metadata": {
    "collapsed": false,
    "ExecuteTime": {
     "end_time": "2024-02-25T06:13:15.522916Z",
     "start_time": "2024-02-25T06:13:15.520367Z"
    }
   },
   "id": "995fa0a40c0f79ce"
  },
  {
   "cell_type": "code",
   "execution_count": 2,
   "outputs": [],
   "source": [],
   "metadata": {
    "collapsed": false,
    "ExecuteTime": {
     "end_time": "2024-02-25T06:13:15.672262Z",
     "start_time": "2024-02-25T06:13:15.666696Z"
    }
   },
   "id": "f5af41e18d8737b9"
  },
  {
   "cell_type": "code",
   "execution_count": 3,
   "outputs": [],
   "source": [
    "import pandas as pd\n",
    "input_features = pd.read_csv(\"~/Downloads/ratings.csv\")"
   ],
   "metadata": {
    "collapsed": false,
    "ExecuteTime": {
     "end_time": "2024-02-25T06:13:15.981280Z",
     "start_time": "2024-02-25T06:13:15.824628Z"
    }
   },
   "id": "fa635e900a10491f"
  },
  {
   "cell_type": "code",
   "execution_count": 4,
   "outputs": [
    {
     "data": {
      "text/plain": "         Unnamed: 0  rating  timestamp  userID  itemID\n0                 0     5.0  978300760       0       0\n1                 1     3.0  978302109       0       1\n2                 2     3.0  978301968       0       2\n3                 3     4.0  978300275       0       3\n4                 4     5.0  978824291       0       4\n...             ...     ...        ...     ...     ...\n1000204     1000204     1.0  956716541    6039     772\n1000205     1000205     5.0  956704887    6039    1106\n1000206     1000206     5.0  956704746    6039     365\n1000207     1000207     4.0  956715648    6039     152\n1000208     1000208     4.0  956715569    6039      26\n\n[1000209 rows x 5 columns]",
      "text/html": "<div>\n<style scoped>\n    .dataframe tbody tr th:only-of-type {\n        vertical-align: middle;\n    }\n\n    .dataframe tbody tr th {\n        vertical-align: top;\n    }\n\n    .dataframe thead th {\n        text-align: right;\n    }\n</style>\n<table border=\"1\" class=\"dataframe\">\n  <thead>\n    <tr style=\"text-align: right;\">\n      <th></th>\n      <th>Unnamed: 0</th>\n      <th>rating</th>\n      <th>timestamp</th>\n      <th>userID</th>\n      <th>itemID</th>\n    </tr>\n  </thead>\n  <tbody>\n    <tr>\n      <th>0</th>\n      <td>0</td>\n      <td>5.0</td>\n      <td>978300760</td>\n      <td>0</td>\n      <td>0</td>\n    </tr>\n    <tr>\n      <th>1</th>\n      <td>1</td>\n      <td>3.0</td>\n      <td>978302109</td>\n      <td>0</td>\n      <td>1</td>\n    </tr>\n    <tr>\n      <th>2</th>\n      <td>2</td>\n      <td>3.0</td>\n      <td>978301968</td>\n      <td>0</td>\n      <td>2</td>\n    </tr>\n    <tr>\n      <th>3</th>\n      <td>3</td>\n      <td>4.0</td>\n      <td>978300275</td>\n      <td>0</td>\n      <td>3</td>\n    </tr>\n    <tr>\n      <th>4</th>\n      <td>4</td>\n      <td>5.0</td>\n      <td>978824291</td>\n      <td>0</td>\n      <td>4</td>\n    </tr>\n    <tr>\n      <th>...</th>\n      <td>...</td>\n      <td>...</td>\n      <td>...</td>\n      <td>...</td>\n      <td>...</td>\n    </tr>\n    <tr>\n      <th>1000204</th>\n      <td>1000204</td>\n      <td>1.0</td>\n      <td>956716541</td>\n      <td>6039</td>\n      <td>772</td>\n    </tr>\n    <tr>\n      <th>1000205</th>\n      <td>1000205</td>\n      <td>5.0</td>\n      <td>956704887</td>\n      <td>6039</td>\n      <td>1106</td>\n    </tr>\n    <tr>\n      <th>1000206</th>\n      <td>1000206</td>\n      <td>5.0</td>\n      <td>956704746</td>\n      <td>6039</td>\n      <td>365</td>\n    </tr>\n    <tr>\n      <th>1000207</th>\n      <td>1000207</td>\n      <td>4.0</td>\n      <td>956715648</td>\n      <td>6039</td>\n      <td>152</td>\n    </tr>\n    <tr>\n      <th>1000208</th>\n      <td>1000208</td>\n      <td>4.0</td>\n      <td>956715569</td>\n      <td>6039</td>\n      <td>26</td>\n    </tr>\n  </tbody>\n</table>\n<p>1000209 rows × 5 columns</p>\n</div>"
     },
     "execution_count": 4,
     "metadata": {},
     "output_type": "execute_result"
    }
   ],
   "source": [
    "input_features"
   ],
   "metadata": {
    "collapsed": false,
    "ExecuteTime": {
     "end_time": "2024-02-25T06:13:15.987930Z",
     "start_time": "2024-02-25T06:13:15.980225Z"
    }
   },
   "id": "1a8b71e0bfa13af3"
  },
  {
   "cell_type": "code",
   "execution_count": 5,
   "outputs": [],
   "source": [
    "dataset = CFDataset(\"dummy data\")\n",
    "dataset.load_data_from_df(input_features)"
   ],
   "metadata": {
    "collapsed": false,
    "ExecuteTime": {
     "end_time": "2024-02-25T06:13:16.152998Z",
     "start_time": "2024-02-25T06:13:16.133075Z"
    }
   },
   "id": "1f8088ac8fdd356b"
  },
  {
   "cell_type": "code",
   "execution_count": 6,
   "outputs": [
    {
     "data": {
      "text/plain": "<guardian_ai.privacy_estimation.dataset.CFDataset at 0x15761da90>"
     },
     "execution_count": 6,
     "metadata": {},
     "output_type": "execute_result"
    }
   ],
   "source": [
    "dataset"
   ],
   "metadata": {
    "collapsed": false,
    "ExecuteTime": {
     "end_time": "2024-02-25T06:13:16.251383Z",
     "start_time": "2024-02-25T06:13:16.246237Z"
    }
   },
   "id": "e7cf69fa1b9776b0"
  },
  {
   "cell_type": "code",
   "execution_count": 7,
   "outputs": [],
   "source": [
    "dataset_split_ratios = {\n",
    "        CFDataSplit.ATTACK_TRAIN_IN: 0.2,\n",
    "        CFDataSplit.ATTACK_TRAIN_OUT: 0.2,\n",
    "        CFDataSplit.TARGET_TRAIN_MEMBERS: 0.2,\n",
    "        CFDataSplit.TARGET_NON_MEMBERS: 0.2,\n",
    "        CFDataSplit.ITEM_DATASET:0.2\n",
    "    }\n",
    "dataset.get_item_features(dataset_split_ratios)"
   ],
   "metadata": {
    "collapsed": false,
    "ExecuteTime": {
     "end_time": "2024-02-25T06:13:16.489331Z",
     "start_time": "2024-02-25T06:13:16.401413Z"
    }
   },
   "id": "32c6f5646a77c82b"
  },
  {
   "cell_type": "code",
   "execution_count": 8,
   "outputs": [
    {
     "data": {
      "text/plain": "        Unnamed: 0  rating  timestamp  userID  itemID\n233            233     5.0  978294008       3      63\n234            234     3.0  978293924       3      64\n235            235     4.0  978294282       3     208\n236            236     4.0  978294260       3     209\n237            237     4.0  978294282       3     210\n...            ...     ...        ...     ...     ...\n984335      984335     5.0  958846401    5948    3701\n984612      984612     1.0  957180328    5949    3672\n993739      993739     1.0  956807238    6000    3666\n996177      996177     5.0  956958948    6015    3380\n996637      996637     3.0  995663888    6015    3670\n\n[255290 rows x 5 columns]",
      "text/html": "<div>\n<style scoped>\n    .dataframe tbody tr th:only-of-type {\n        vertical-align: middle;\n    }\n\n    .dataframe tbody tr th {\n        vertical-align: top;\n    }\n\n    .dataframe thead th {\n        text-align: right;\n    }\n</style>\n<table border=\"1\" class=\"dataframe\">\n  <thead>\n    <tr style=\"text-align: right;\">\n      <th></th>\n      <th>Unnamed: 0</th>\n      <th>rating</th>\n      <th>timestamp</th>\n      <th>userID</th>\n      <th>itemID</th>\n    </tr>\n  </thead>\n  <tbody>\n    <tr>\n      <th>233</th>\n      <td>233</td>\n      <td>5.0</td>\n      <td>978294008</td>\n      <td>3</td>\n      <td>63</td>\n    </tr>\n    <tr>\n      <th>234</th>\n      <td>234</td>\n      <td>3.0</td>\n      <td>978293924</td>\n      <td>3</td>\n      <td>64</td>\n    </tr>\n    <tr>\n      <th>235</th>\n      <td>235</td>\n      <td>4.0</td>\n      <td>978294282</td>\n      <td>3</td>\n      <td>208</td>\n    </tr>\n    <tr>\n      <th>236</th>\n      <td>236</td>\n      <td>4.0</td>\n      <td>978294260</td>\n      <td>3</td>\n      <td>209</td>\n    </tr>\n    <tr>\n      <th>237</th>\n      <td>237</td>\n      <td>4.0</td>\n      <td>978294282</td>\n      <td>3</td>\n      <td>210</td>\n    </tr>\n    <tr>\n      <th>...</th>\n      <td>...</td>\n      <td>...</td>\n      <td>...</td>\n      <td>...</td>\n      <td>...</td>\n    </tr>\n    <tr>\n      <th>984335</th>\n      <td>984335</td>\n      <td>5.0</td>\n      <td>958846401</td>\n      <td>5948</td>\n      <td>3701</td>\n    </tr>\n    <tr>\n      <th>984612</th>\n      <td>984612</td>\n      <td>1.0</td>\n      <td>957180328</td>\n      <td>5949</td>\n      <td>3672</td>\n    </tr>\n    <tr>\n      <th>993739</th>\n      <td>993739</td>\n      <td>1.0</td>\n      <td>956807238</td>\n      <td>6000</td>\n      <td>3666</td>\n    </tr>\n    <tr>\n      <th>996177</th>\n      <td>996177</td>\n      <td>5.0</td>\n      <td>956958948</td>\n      <td>6015</td>\n      <td>3380</td>\n    </tr>\n    <tr>\n      <th>996637</th>\n      <td>996637</td>\n      <td>3.0</td>\n      <td>995663888</td>\n      <td>6015</td>\n      <td>3670</td>\n    </tr>\n  </tbody>\n</table>\n<p>255290 rows × 5 columns</p>\n</div>"
     },
     "execution_count": 8,
     "metadata": {},
     "output_type": "execute_result"
    }
   ],
   "source": [
    "dataset.item_features"
   ],
   "metadata": {
    "collapsed": false,
    "ExecuteTime": {
     "end_time": "2024-02-25T06:13:16.564548Z",
     "start_time": "2024-02-25T06:13:16.560873Z"
    }
   },
   "id": "54d861be92c84013"
  },
  {
   "cell_type": "code",
   "execution_count": 9,
   "outputs": [],
   "source": [
    "item_vectors = dataset.perform_matrix_factorization(50)"
   ],
   "metadata": {
    "collapsed": false,
    "ExecuteTime": {
     "end_time": "2024-02-25T06:13:44.825622Z",
     "start_time": "2024-02-25T06:13:16.712970Z"
    }
   },
   "id": "f06dd0ac1f212a26"
  },
  {
   "cell_type": "code",
   "execution_count": 10,
   "outputs": [],
   "source": [
    "dataset.create_shadow_target_dataset()"
   ],
   "metadata": {
    "collapsed": false,
    "ExecuteTime": {
     "end_time": "2024-02-25T06:13:45.557625Z",
     "start_time": "2024-02-25T06:13:44.826862Z"
    }
   },
   "id": "9c20c7e268e835f2"
  },
  {
   "cell_type": "code",
   "execution_count": 11,
   "outputs": [
    {
     "data": {
      "text/plain": "                                           interactions\n0     [5.0, 3.0, 3.0, 4.0, 5.0, 3.0, 5.0, 5.0, 4.0, ...\n1     [5.0, 0.0, 0.0, 0.0, 0.0, 0.0, 0.0, 0.0, 0.0, ...\n2     [0.0, 0.0, 0.0, 0.0, 5.0, 5.0, 0.0, 0.0, 0.0, ...\n3     [0.0, 0.0, 0.0, 3.0, 5.0, 0.0, 0.0, 0.0, 0.0, ...\n4     [0.0, 0.0, 5.0, 5.0, 0.0, 0.0, 0.0, 0.0, 0.0, ...\n...                                                 ...\n4177  [5.0, 0.0, 0.0, 0.0, 5.0, 0.0, 0.0, 0.0, 0.0, ...\n4178  [5.0, 0.0, 3.0, 4.0, 4.0, 5.0, 0.0, 0.0, 5.0, ...\n4179  [4.0, 0.0, 0.0, 0.0, 0.0, 0.0, 0.0, 4.0, 0.0, ...\n4180  [0.0, 0.0, 0.0, 0.0, 0.0, 0.0, 0.0, 0.0, 0.0, ...\n4181  [4.0, 0.0, 0.0, 0.0, 0.0, 0.0, 0.0, 0.0, 0.0, ...\n\n[4182 rows x 1 columns]",
      "text/html": "<div>\n<style scoped>\n    .dataframe tbody tr th:only-of-type {\n        vertical-align: middle;\n    }\n\n    .dataframe tbody tr th {\n        vertical-align: top;\n    }\n\n    .dataframe thead th {\n        text-align: right;\n    }\n</style>\n<table border=\"1\" class=\"dataframe\">\n  <thead>\n    <tr style=\"text-align: right;\">\n      <th></th>\n      <th>interactions</th>\n    </tr>\n  </thead>\n  <tbody>\n    <tr>\n      <th>0</th>\n      <td>[5.0, 3.0, 3.0, 4.0, 5.0, 3.0, 5.0, 5.0, 4.0, ...</td>\n    </tr>\n    <tr>\n      <th>1</th>\n      <td>[5.0, 0.0, 0.0, 0.0, 0.0, 0.0, 0.0, 0.0, 0.0, ...</td>\n    </tr>\n    <tr>\n      <th>2</th>\n      <td>[0.0, 0.0, 0.0, 0.0, 5.0, 5.0, 0.0, 0.0, 0.0, ...</td>\n    </tr>\n    <tr>\n      <th>3</th>\n      <td>[0.0, 0.0, 0.0, 3.0, 5.0, 0.0, 0.0, 0.0, 0.0, ...</td>\n    </tr>\n    <tr>\n      <th>4</th>\n      <td>[0.0, 0.0, 5.0, 5.0, 0.0, 0.0, 0.0, 0.0, 0.0, ...</td>\n    </tr>\n    <tr>\n      <th>...</th>\n      <td>...</td>\n    </tr>\n    <tr>\n      <th>4177</th>\n      <td>[5.0, 0.0, 0.0, 0.0, 5.0, 0.0, 0.0, 0.0, 0.0, ...</td>\n    </tr>\n    <tr>\n      <th>4178</th>\n      <td>[5.0, 0.0, 3.0, 4.0, 4.0, 5.0, 0.0, 0.0, 5.0, ...</td>\n    </tr>\n    <tr>\n      <th>4179</th>\n      <td>[4.0, 0.0, 0.0, 0.0, 0.0, 0.0, 0.0, 4.0, 0.0, ...</td>\n    </tr>\n    <tr>\n      <th>4180</th>\n      <td>[0.0, 0.0, 0.0, 0.0, 0.0, 0.0, 0.0, 0.0, 0.0, ...</td>\n    </tr>\n    <tr>\n      <th>4181</th>\n      <td>[4.0, 0.0, 0.0, 0.0, 0.0, 0.0, 0.0, 0.0, 0.0, ...</td>\n    </tr>\n  </tbody>\n</table>\n<p>4182 rows × 1 columns</p>\n</div>"
     },
     "execution_count": 11,
     "metadata": {},
     "output_type": "execute_result"
    }
   ],
   "source": [
    "dataset.df_y"
   ],
   "metadata": {
    "collapsed": false,
    "ExecuteTime": {
     "end_time": "2024-02-25T06:13:45.572265Z",
     "start_time": "2024-02-25T06:13:45.562948Z"
    }
   },
   "id": "56f36861af7f129c"
  },
  {
   "cell_type": "code",
   "execution_count": 12,
   "outputs": [
    {
     "data": {
      "text/plain": "{<CFDataSplit.ATTACK_TRAIN_IN: 0>: 0.2,\n <CFDataSplit.ATTACK_TRAIN_OUT: 1>: 0.2,\n <CFDataSplit.TARGET_TRAIN_MEMBERS: 2>: 0.2,\n <CFDataSplit.TARGET_NON_MEMBERS: 3>: 0.2,\n <CFDataSplit.ITEM_DATASET: 4>: 0.2}"
     },
     "execution_count": 12,
     "metadata": {},
     "output_type": "execute_result"
    }
   ],
   "source": [
    "dataset_split_ratios"
   ],
   "metadata": {
    "collapsed": false,
    "ExecuteTime": {
     "end_time": "2024-02-25T06:13:45.572590Z",
     "start_time": "2024-02-25T06:13:45.566966Z"
    }
   },
   "id": "498335b1d021cc8c"
  },
  {
   "cell_type": "code",
   "execution_count": 13,
   "outputs": [
    {
     "name": "stdout",
     "output_type": "stream",
     "text": [
      "ATTACK_TRAIN_IN\t836\n",
      "ATTACK_TRAIN_OUT\t836\n",
      "TARGET_TRAIN_MEMBERS\t836\n",
      "TARGET_NON_MEMBERS\t837\n",
      "ITEM_DATASET\t837\n"
     ]
    }
   ],
   "source": [
    "dataset_split_ratios = {\n",
    "        CFDataSplit.ATTACK_TRAIN_IN: 0.2,\n",
    "        CFDataSplit.ATTACK_TRAIN_OUT: 0.2,\n",
    "        CFDataSplit.TARGET_TRAIN_MEMBERS: 0.2,\n",
    "        CFDataSplit.TARGET_NON_MEMBERS: 0.2,\n",
    "        CFDataSplit.ITEM_DATASET:0.2\n",
    "    }\n",
    "dataset.prepare_target_and_attack_data(42, dataset_split_ratios)"
   ],
   "metadata": {
    "collapsed": false,
    "ExecuteTime": {
     "end_time": "2024-02-25T06:13:45.587578Z",
     "start_time": "2024-02-25T06:13:45.571095Z"
    }
   },
   "id": "d17d8be9357f7254"
  },
  {
   "cell_type": "code",
   "execution_count": 15,
   "outputs": [
    {
     "data": {
      "text/plain": "                                           interactions\n1224  [0.0, 0.0, 0.0, 2.0, 0.0, 0.0, 0.0, 0.0, 0.0, ...\n3216  [4.0, 0.0, 0.0, 0.0, 0.0, 0.0, 0.0, 3.0, 0.0, ...\n3006  [0.0, 0.0, 0.0, 0.0, 0.0, 0.0, 0.0, 0.0, 0.0, ...\n2549  [5.0, 0.0, 0.0, 0.0, 0.0, 5.0, 0.0, 4.0, 0.0, ...\n1946  [0.0, 0.0, 0.0, 3.0, 0.0, 0.0, 0.0, 0.0, 0.0, ...\n...                                                 ...\n1444  [0.0, 4.0, 0.0, 0.0, 0.0, 5.0, 0.0, 0.0, 0.0, ...\n1611  [0.0, 0.0, 0.0, 0.0, 0.0, 0.0, 0.0, 0.0, 0.0, ...\n2488  [5.0, 0.0, 0.0, 0.0, 0.0, 5.0, 0.0, 0.0, 0.0, ...\n3602  [4.0, 0.0, 0.0, 0.0, 0.0, 5.0, 0.0, 0.0, 0.0, ...\n3117  [5.0, 0.0, 0.0, 0.0, 0.0, 5.0, 0.0, 4.0, 0.0, ...\n\n[1672 rows x 1 columns]",
      "text/html": "<div>\n<style scoped>\n    .dataframe tbody tr th:only-of-type {\n        vertical-align: middle;\n    }\n\n    .dataframe tbody tr th {\n        vertical-align: top;\n    }\n\n    .dataframe thead th {\n        text-align: right;\n    }\n</style>\n<table border=\"1\" class=\"dataframe\">\n  <thead>\n    <tr style=\"text-align: right;\">\n      <th></th>\n      <th>interactions</th>\n    </tr>\n  </thead>\n  <tbody>\n    <tr>\n      <th>1224</th>\n      <td>[0.0, 0.0, 0.0, 2.0, 0.0, 0.0, 0.0, 0.0, 0.0, ...</td>\n    </tr>\n    <tr>\n      <th>3216</th>\n      <td>[4.0, 0.0, 0.0, 0.0, 0.0, 0.0, 0.0, 3.0, 0.0, ...</td>\n    </tr>\n    <tr>\n      <th>3006</th>\n      <td>[0.0, 0.0, 0.0, 0.0, 0.0, 0.0, 0.0, 0.0, 0.0, ...</td>\n    </tr>\n    <tr>\n      <th>2549</th>\n      <td>[5.0, 0.0, 0.0, 0.0, 0.0, 5.0, 0.0, 4.0, 0.0, ...</td>\n    </tr>\n    <tr>\n      <th>1946</th>\n      <td>[0.0, 0.0, 0.0, 3.0, 0.0, 0.0, 0.0, 0.0, 0.0, ...</td>\n    </tr>\n    <tr>\n      <th>...</th>\n      <td>...</td>\n    </tr>\n    <tr>\n      <th>1444</th>\n      <td>[0.0, 4.0, 0.0, 0.0, 0.0, 5.0, 0.0, 0.0, 0.0, ...</td>\n    </tr>\n    <tr>\n      <th>1611</th>\n      <td>[0.0, 0.0, 0.0, 0.0, 0.0, 0.0, 0.0, 0.0, 0.0, ...</td>\n    </tr>\n    <tr>\n      <th>2488</th>\n      <td>[5.0, 0.0, 0.0, 0.0, 0.0, 5.0, 0.0, 0.0, 0.0, ...</td>\n    </tr>\n    <tr>\n      <th>3602</th>\n      <td>[4.0, 0.0, 0.0, 0.0, 0.0, 5.0, 0.0, 0.0, 0.0, ...</td>\n    </tr>\n    <tr>\n      <th>3117</th>\n      <td>[5.0, 0.0, 0.0, 0.0, 0.0, 5.0, 0.0, 4.0, 0.0, ...</td>\n    </tr>\n  </tbody>\n</table>\n<p>1672 rows × 1 columns</p>\n</div>"
     },
     "execution_count": 15,
     "metadata": {},
     "output_type": "execute_result"
    }
   ],
   "source": [
    "dataset.attack_model_data.y_attack_train"
   ],
   "metadata": {
    "collapsed": false,
    "ExecuteTime": {
     "end_time": "2024-02-25T06:13:56.293429Z",
     "start_time": "2024-02-25T06:13:56.285871Z"
    }
   },
   "id": "f3c3d44dd8461350"
  },
  {
   "cell_type": "code",
   "execution_count": 16,
   "outputs": [],
   "source": [
    "from guardian_ai.privacy_estimation.recommender_model import MLP, NeuMF, GMF\n",
    "from guardian_ai.privacy_estimation.attack import AttackType\n",
    "\n",
    "target_models = []\n",
    "target_models.append(MLP(50, 4, [16,8,4], 50, 32, 0.01))\n",
    "target_models.append(NeuMF(50, 4, [16,8,4], 50, 32, 0.01))\n",
    "target_models.append(GMF(50, 4, [16,8,4], 50, 32, 0.01))\n",
    "    \n",
    "shadow_models = []\n",
    "shadow_models.append(MLP(4, [16,8,4], 50, 32, 0.01, 50))\n",
    "shadow_models.append(NeuMF(4, [16,8,4], 50, 32, 0.01, 50))\n",
    "shadow_models.append(GMF(4, [16,8,4], 50, 32, 0.01, 50))\n",
    "\n",
    "attacks = []\n",
    "attacks.append(AttackType.CollaborativeFilteringAttack)"
   ],
   "metadata": {
    "collapsed": false,
    "ExecuteTime": {
     "end_time": "2024-02-25T06:14:10.797317Z",
     "start_time": "2024-02-25T06:14:06.415239Z"
    }
   },
   "id": "43d094c2a8a2bec8"
  },
  {
   "cell_type": "code",
   "execution_count": 17,
   "outputs": [],
   "source": [
    "from guardian_ai.privacy_estimation.attack_runner import AttackRunner\n",
    "attack_runner = AttackRunner( dataset, target_models, attacks, shadow_models)"
   ],
   "metadata": {
    "collapsed": false,
    "ExecuteTime": {
     "end_time": "2024-02-25T06:14:13.015538Z",
     "start_time": "2024-02-25T06:14:12.995459Z"
    }
   },
   "id": "b1f76f239c20900c"
  },
  {
   "cell_type": "code",
   "execution_count": 18,
   "outputs": [
    {
     "name": "stdout",
     "output_type": "stream",
     "text": [
      "Target Model: MLP\n"
     ]
    },
    {
     "name": "stderr",
     "output_type": "stream",
     "text": [
      "INFO:recommenders.models.ncf.dataset:Indexing ./train.csv ...\n",
      "INFO:recommenders.models.ncf.dataset:Indexing ./leave_one_out_test.csv ...\n",
      "INFO:recommenders.models.ncf.dataset:Creating full leave-one-out test file ./leave_one_out_test_full.csv ...\n"
     ]
    },
    {
     "name": "stdout",
     "output_type": "stream",
     "text": [
      "        userID  itemID  rating\n",
      "67           0      67     3.0\n",
      "116          0     116     3.0\n",
      "120          0     120     4.0\n",
      "113          0     113     2.0\n",
      "35           0      35     4.0\n",
      "...        ...     ...     ...\n",
      "124236     835    2012     4.0\n",
      "124231     835     444     5.0\n",
      "124219     835     648     4.0\n",
      "124208     835     276     4.0\n",
      "124235     835    1550     5.0\n",
      "\n",
      "[24832 rows x 3 columns]\n"
     ]
    },
    {
     "name": "stderr",
     "output_type": "stream",
     "text": [
      "100%|██████████| 836/836 [00:01<00:00, 499.44it/s]\n",
      "INFO:recommenders.models.ncf.dataset:Indexing ./leave_one_out_test_full.csv ...\n",
      "/opt/homebrew/lib/python3.11/site-packages/tensorflow/python/keras/engine/base_layer_v1.py:1697: UserWarning: `layer.apply` is deprecated and will be removed in a future version. Please use `layer.__call__` method instead.\n",
      "  warnings.warn('`layer.apply` is deprecated and '\n",
      "2024-02-25 01:14:17.002195: I tensorflow/compiler/mlir/mlir_graph_optimization_pass.cc:388] MLIR V1 optimization pass is not enabled\n"
     ]
    },
    {
     "ename": "InvalidArgumentError",
     "evalue": "Graph execution error:\n\nDetected at node 'optimizer/Adam/update_embedding/embedding_mlp_Q/mul_5' defined at (most recent call last):\n    File \"<frozen runpy>\", line 198, in _run_module_as_main\n    File \"<frozen runpy>\", line 88, in _run_code\n    File \"/opt/homebrew/lib/python3.11/site-packages/ipykernel_launcher.py\", line 17, in <module>\n    File \"/opt/homebrew/lib/python3.11/site-packages/traitlets/config/application.py\", line 1043, in launch_instance\n    File \"/opt/homebrew/lib/python3.11/site-packages/ipykernel/kernelapp.py\", line 736, in start\n    File \"/opt/homebrew/lib/python3.11/site-packages/tornado/platform/asyncio.py\", line 195, in start\n    File \"/opt/homebrew/Cellar/python@3.11/3.11.7_1/Frameworks/Python.framework/Versions/3.11/lib/python3.11/asyncio/base_events.py\", line 607, in run_forever\n    File \"/opt/homebrew/Cellar/python@3.11/3.11.7_1/Frameworks/Python.framework/Versions/3.11/lib/python3.11/asyncio/base_events.py\", line 1922, in _run_once\n    File \"/opt/homebrew/Cellar/python@3.11/3.11.7_1/Frameworks/Python.framework/Versions/3.11/lib/python3.11/asyncio/events.py\", line 80, in _run\n    File \"/opt/homebrew/lib/python3.11/site-packages/ipykernel/kernelbase.py\", line 516, in dispatch_queue\n    File \"/opt/homebrew/lib/python3.11/site-packages/ipykernel/kernelbase.py\", line 505, in process_one\n    File \"/opt/homebrew/lib/python3.11/site-packages/ipykernel/kernelbase.py\", line 412, in dispatch_shell\n    File \"/opt/homebrew/lib/python3.11/site-packages/ipykernel/kernelbase.py\", line 740, in execute_request\n    File \"/opt/homebrew/lib/python3.11/site-packages/ipykernel/ipkernel.py\", line 422, in do_execute\n    File \"/opt/homebrew/lib/python3.11/site-packages/ipykernel/zmqshell.py\", line 546, in run_cell\n    File \"/opt/homebrew/lib/python3.11/site-packages/IPython/core/interactiveshell.py\", line 3024, in run_cell\n    File \"/opt/homebrew/lib/python3.11/site-packages/IPython/core/interactiveshell.py\", line 3079, in _run_cell\n    File \"/opt/homebrew/lib/python3.11/site-packages/IPython/core/async_helpers.py\", line 129, in _pseudo_sync_runner\n    File \"/opt/homebrew/lib/python3.11/site-packages/IPython/core/interactiveshell.py\", line 3284, in run_cell_async\n    File \"/opt/homebrew/lib/python3.11/site-packages/IPython/core/interactiveshell.py\", line 3466, in run_ast_nodes\n    File \"/opt/homebrew/lib/python3.11/site-packages/IPython/core/interactiveshell.py\", line 3526, in run_code\n    File \"/var/folders/_r/fzfk35hd4y3bcm1sy7r99ywm0000gn/T/ipykernel_11090/3673353111.py\", line 1, in <module>\n    File \"/Users/animesh/Documents/work/research-collaboration/changes_to_guardian_ai/guardian-ai/guardian_ai/privacy_estimation/attack_runner.py\", line 84, in train_collaborative_filtering_models\n    File \"/Users/animesh/Documents/work/research-collaboration/changes_to_guardian_ai/guardian-ai/guardian_ai/privacy_estimation/recommender_model.py\", line 163, in train_model\n    File \"/Users/animesh/Documents/work/research-collaboration/changes_to_guardian_ai/guardian-ai/guardian_ai/privacy_estimation/src/recommenders/recommenders/models/ncf/ncf_singlenode.py\", line 83, in __init__\n    File \"/Users/animesh/Documents/work/research-collaboration/changes_to_guardian_ai/guardian-ai/guardian_ai/privacy_estimation/src/recommenders/recommenders/models/ncf/ncf_singlenode.py\", line 271, in _create_model\nNode: 'optimizer/Adam/update_embedding/embedding_mlp_Q/mul_5'\nIncompatible shapes: [0] vs. [3158,8]\n\t [[{{node optimizer/Adam/update_embedding/embedding_mlp_Q/mul_5}}]]\n\nOriginal stack trace for 'optimizer/Adam/update_embedding/embedding_mlp_Q/mul_5':\n  File \"<frozen runpy>\", line 198, in _run_module_as_main\n  File \"<frozen runpy>\", line 88, in _run_code\n  File \"/opt/homebrew/lib/python3.11/site-packages/ipykernel_launcher.py\", line 17, in <module>\n  File \"/opt/homebrew/lib/python3.11/site-packages/traitlets/config/application.py\", line 1043, in launch_instance\n  File \"/opt/homebrew/lib/python3.11/site-packages/ipykernel/kernelapp.py\", line 736, in start\n  File \"/opt/homebrew/lib/python3.11/site-packages/tornado/platform/asyncio.py\", line 195, in start\n  File \"/opt/homebrew/Cellar/python@3.11/3.11.7_1/Frameworks/Python.framework/Versions/3.11/lib/python3.11/asyncio/base_events.py\", line 607, in run_forever\n  File \"/opt/homebrew/Cellar/python@3.11/3.11.7_1/Frameworks/Python.framework/Versions/3.11/lib/python3.11/asyncio/base_events.py\", line 1922, in _run_once\n  File \"/opt/homebrew/Cellar/python@3.11/3.11.7_1/Frameworks/Python.framework/Versions/3.11/lib/python3.11/asyncio/events.py\", line 80, in _run\n  File \"/opt/homebrew/lib/python3.11/site-packages/ipykernel/kernelbase.py\", line 516, in dispatch_queue\n  File \"/opt/homebrew/lib/python3.11/site-packages/ipykernel/kernelbase.py\", line 505, in process_one\n  File \"/opt/homebrew/lib/python3.11/site-packages/ipykernel/kernelbase.py\", line 412, in dispatch_shell\n  File \"/opt/homebrew/lib/python3.11/site-packages/ipykernel/kernelbase.py\", line 740, in execute_request\n  File \"/opt/homebrew/lib/python3.11/site-packages/ipykernel/ipkernel.py\", line 422, in do_execute\n  File \"/opt/homebrew/lib/python3.11/site-packages/ipykernel/zmqshell.py\", line 546, in run_cell\n  File \"/opt/homebrew/lib/python3.11/site-packages/IPython/core/interactiveshell.py\", line 3024, in run_cell\n  File \"/opt/homebrew/lib/python3.11/site-packages/IPython/core/interactiveshell.py\", line 3079, in _run_cell\n  File \"/opt/homebrew/lib/python3.11/site-packages/IPython/core/async_helpers.py\", line 129, in _pseudo_sync_runner\n  File \"/opt/homebrew/lib/python3.11/site-packages/IPython/core/interactiveshell.py\", line 3284, in run_cell_async\n  File \"/opt/homebrew/lib/python3.11/site-packages/IPython/core/interactiveshell.py\", line 3466, in run_ast_nodes\n  File \"/opt/homebrew/lib/python3.11/site-packages/IPython/core/interactiveshell.py\", line 3526, in run_code\n  File \"/var/folders/_r/fzfk35hd4y3bcm1sy7r99ywm0000gn/T/ipykernel_11090/3673353111.py\", line 1, in <module>\n  File \"/Users/animesh/Documents/work/research-collaboration/changes_to_guardian_ai/guardian-ai/guardian_ai/privacy_estimation/attack_runner.py\", line 84, in train_collaborative_filtering_models\n  File \"/Users/animesh/Documents/work/research-collaboration/changes_to_guardian_ai/guardian-ai/guardian_ai/privacy_estimation/recommender_model.py\", line 163, in train_model\n  File \"/Users/animesh/Documents/work/research-collaboration/changes_to_guardian_ai/guardian-ai/guardian_ai/privacy_estimation/src/recommenders/recommenders/models/ncf/ncf_singlenode.py\", line 83, in __init__\n  File \"/Users/animesh/Documents/work/research-collaboration/changes_to_guardian_ai/guardian-ai/guardian_ai/privacy_estimation/src/recommenders/recommenders/models/ncf/ncf_singlenode.py\", line 271, in _create_model\n  File \"/opt/homebrew/lib/python3.11/site-packages/tensorflow/python/training/optimizer.py\", line 486, in minimize\n  File \"/opt/homebrew/lib/python3.11/site-packages/tensorflow/python/training/optimizer.py\", line 725, in apply_gradients\n  File \"/opt/homebrew/lib/python3.11/site-packages/tensorflow/python/training/optimizer.py\", line 170, in update_op\n  File \"/opt/homebrew/lib/python3.11/site-packages/tensorflow/python/training/optimizer.py\", line 1087, in _resource_apply_sparse_duplicate_indices\n  File \"/opt/homebrew/lib/python3.11/site-packages/tensorflow/python/training/adam.py\", line 290, in _resource_apply_sparse\n  File \"/opt/homebrew/lib/python3.11/site-packages/tensorflow/python/training/adam.py\", line 265, in _apply_sparse_shared\n  File \"/opt/homebrew/lib/python3.11/site-packages/tensorflow/python/ops/variables.py\", line 1013, in _run_op\n  File \"/opt/homebrew/lib/python3.11/site-packages/tensorflow/python/util/traceback_utils.py\", line 150, in error_handler\n  File \"/opt/homebrew/lib/python3.11/site-packages/tensorflow/python/ops/math_ops.py\", line 1478, in binary_op_wrapper\n  File \"/opt/homebrew/lib/python3.11/site-packages/tensorflow/python/ops/math_ops.py\", line 1881, in _mul_dispatch\n  File \"/opt/homebrew/lib/python3.11/site-packages/tensorflow/python/ops/weak_tensor_ops.py\", line 142, in wrapper\n  File \"/opt/homebrew/lib/python3.11/site-packages/tensorflow/python/util/traceback_utils.py\", line 150, in error_handler\n  File \"/opt/homebrew/lib/python3.11/site-packages/tensorflow/python/util/dispatch.py\", line 1260, in op_dispatch_handler\n  File \"/opt/homebrew/lib/python3.11/site-packages/tensorflow/python/ops/math_ops.py\", line 530, in multiply\n  File \"/opt/homebrew/lib/python3.11/site-packages/tensorflow/python/ops/gen_math_ops.py\", line 6764, in mul\n  File \"/opt/homebrew/lib/python3.11/site-packages/tensorflow/python/framework/op_def_library.py\", line 796, in _apply_op_helper\n  File \"/opt/homebrew/lib/python3.11/site-packages/tensorflow/python/framework/ops.py\", line 2652, in _create_op_internal\n  File \"/opt/homebrew/lib/python3.11/site-packages/tensorflow/python/framework/ops.py\", line 1160, in from_node_def\n",
     "output_type": "error",
     "traceback": [
      "\u001B[0;31m---------------------------------------------------------------------------\u001B[0m",
      "\u001B[0;31mInvalidArgumentError\u001B[0m                      Traceback (most recent call last)",
      "File \u001B[0;32m/opt/homebrew/lib/python3.11/site-packages/tensorflow/python/client/session.py:1402\u001B[0m, in \u001B[0;36mBaseSession._do_call\u001B[0;34m(self, fn, *args)\u001B[0m\n\u001B[1;32m   1401\u001B[0m \u001B[38;5;28;01mtry\u001B[39;00m:\n\u001B[0;32m-> 1402\u001B[0m   \u001B[38;5;28;01mreturn\u001B[39;00m \u001B[43mfn\u001B[49m\u001B[43m(\u001B[49m\u001B[38;5;241;43m*\u001B[39;49m\u001B[43margs\u001B[49m\u001B[43m)\u001B[49m\n\u001B[1;32m   1403\u001B[0m \u001B[38;5;28;01mexcept\u001B[39;00m errors\u001B[38;5;241m.\u001B[39mOpError \u001B[38;5;28;01mas\u001B[39;00m e:\n",
      "File \u001B[0;32m/opt/homebrew/lib/python3.11/site-packages/tensorflow/python/client/session.py:1385\u001B[0m, in \u001B[0;36mBaseSession._do_run.<locals>._run_fn\u001B[0;34m(feed_dict, fetch_list, target_list, options, run_metadata)\u001B[0m\n\u001B[1;32m   1384\u001B[0m \u001B[38;5;28mself\u001B[39m\u001B[38;5;241m.\u001B[39m_extend_graph()\n\u001B[0;32m-> 1385\u001B[0m \u001B[38;5;28;01mreturn\u001B[39;00m \u001B[38;5;28;43mself\u001B[39;49m\u001B[38;5;241;43m.\u001B[39;49m\u001B[43m_call_tf_sessionrun\u001B[49m\u001B[43m(\u001B[49m\u001B[43moptions\u001B[49m\u001B[43m,\u001B[49m\u001B[43m \u001B[49m\u001B[43mfeed_dict\u001B[49m\u001B[43m,\u001B[49m\u001B[43m \u001B[49m\u001B[43mfetch_list\u001B[49m\u001B[43m,\u001B[49m\n\u001B[1;32m   1386\u001B[0m \u001B[43m                                \u001B[49m\u001B[43mtarget_list\u001B[49m\u001B[43m,\u001B[49m\u001B[43m \u001B[49m\u001B[43mrun_metadata\u001B[49m\u001B[43m)\u001B[49m\n",
      "File \u001B[0;32m/opt/homebrew/lib/python3.11/site-packages/tensorflow/python/client/session.py:1478\u001B[0m, in \u001B[0;36mBaseSession._call_tf_sessionrun\u001B[0;34m(self, options, feed_dict, fetch_list, target_list, run_metadata)\u001B[0m\n\u001B[1;32m   1476\u001B[0m \u001B[38;5;28;01mdef\u001B[39;00m \u001B[38;5;21m_call_tf_sessionrun\u001B[39m(\u001B[38;5;28mself\u001B[39m, options, feed_dict, fetch_list, target_list,\n\u001B[1;32m   1477\u001B[0m                         run_metadata):\n\u001B[0;32m-> 1478\u001B[0m   \u001B[38;5;28;01mreturn\u001B[39;00m \u001B[43mtf_session\u001B[49m\u001B[38;5;241;43m.\u001B[39;49m\u001B[43mTF_SessionRun_wrapper\u001B[49m\u001B[43m(\u001B[49m\u001B[38;5;28;43mself\u001B[39;49m\u001B[38;5;241;43m.\u001B[39;49m\u001B[43m_session\u001B[49m\u001B[43m,\u001B[49m\u001B[43m \u001B[49m\u001B[43moptions\u001B[49m\u001B[43m,\u001B[49m\u001B[43m \u001B[49m\u001B[43mfeed_dict\u001B[49m\u001B[43m,\u001B[49m\n\u001B[1;32m   1479\u001B[0m \u001B[43m                                          \u001B[49m\u001B[43mfetch_list\u001B[49m\u001B[43m,\u001B[49m\u001B[43m \u001B[49m\u001B[43mtarget_list\u001B[49m\u001B[43m,\u001B[49m\n\u001B[1;32m   1480\u001B[0m \u001B[43m                                          \u001B[49m\u001B[43mrun_metadata\u001B[49m\u001B[43m)\u001B[49m\n",
      "\u001B[0;31mInvalidArgumentError\u001B[0m: Incompatible shapes: [0] vs. [3158,8]\n\t [[{{node optimizer/Adam/update_embedding/embedding_mlp_Q/mul_5}}]]",
      "\nDuring handling of the above exception, another exception occurred:\n",
      "\u001B[0;31mInvalidArgumentError\u001B[0m                      Traceback (most recent call last)",
      "Cell \u001B[0;32mIn[18], line 1\u001B[0m\n\u001B[0;32m----> 1\u001B[0m \u001B[43mattack_runner\u001B[49m\u001B[38;5;241;43m.\u001B[39;49m\u001B[43mtrain_collaborative_filtering_models\u001B[49m\u001B[43m(\u001B[49m\u001B[43m)\u001B[49m\n",
      "File \u001B[0;32m~/Documents/work/research-collaboration/changes_to_guardian_ai/guardian-ai/guardian_ai/privacy_estimation/attack_runner.py:84\u001B[0m, in \u001B[0;36mAttackRunner.train_collaborative_filtering_models\u001B[0;34m(self)\u001B[0m\n\u001B[1;32m     82\u001B[0m train, test \u001B[38;5;241m=\u001B[39m target_model\u001B[38;5;241m.\u001B[39mtrain_test_split(user_item_df)\n\u001B[1;32m     83\u001B[0m target_model\u001B[38;5;241m.\u001B[39mdata_object(train, test)\n\u001B[0;32m---> 84\u001B[0m \u001B[43mtarget_model\u001B[49m\u001B[38;5;241;43m.\u001B[39;49m\u001B[43mtrain_model\u001B[49m\u001B[43m(\u001B[49m\u001B[43m)\u001B[49m\n\u001B[1;32m     85\u001B[0m predictions \u001B[38;5;241m=\u001B[39m target_model\u001B[38;5;241m.\u001B[39mget_predictions(train)\n\u001B[1;32m     86\u001B[0m \u001B[38;5;28mprint\u001B[39m(\u001B[38;5;124m\"\u001B[39m\u001B[38;5;124mTarget Model Train Evaluation: \u001B[39m\u001B[38;5;124m\"\u001B[39m)\n",
      "File \u001B[0;32m~/Documents/work/research-collaboration/changes_to_guardian_ai/guardian-ai/guardian_ai/privacy_estimation/recommender_model.py:173\u001B[0m, in \u001B[0;36mCFModel.train_model\u001B[0;34m(self)\u001B[0m\n\u001B[1;32m    151\u001B[0m \u001B[38;5;250m\u001B[39m\u001B[38;5;124;03m\"\"\"\u001B[39;00m\n\u001B[1;32m    152\u001B[0m \u001B[38;5;124;03mTrain the model that is being attacked.\u001B[39;00m\n\u001B[1;32m    153\u001B[0m \n\u001B[0;32m   (...)\u001B[0m\n\u001B[1;32m    161\u001B[0m \n\u001B[1;32m    162\u001B[0m \u001B[38;5;124;03m\"\"\"\u001B[39;00m\n\u001B[1;32m    163\u001B[0m \u001B[38;5;28mself\u001B[39m\u001B[38;5;241m.\u001B[39mmodel \u001B[38;5;241m=\u001B[39m NCF(\n\u001B[1;32m    164\u001B[0m     n_users\u001B[38;5;241m=\u001B[39m\u001B[38;5;28mself\u001B[39m\u001B[38;5;241m.\u001B[39mdata\u001B[38;5;241m.\u001B[39mn_users,\n\u001B[1;32m    165\u001B[0m     n_items\u001B[38;5;241m=\u001B[39m\u001B[38;5;28mself\u001B[39m\u001B[38;5;241m.\u001B[39mdata\u001B[38;5;241m.\u001B[39mn_items,\n\u001B[0;32m   (...)\u001B[0m\n\u001B[1;32m    171\u001B[0m     learning_rate\u001B[38;5;241m=\u001B[39m\u001B[38;5;28mself\u001B[39m\u001B[38;5;241m.\u001B[39mlearning_rate,\n\u001B[1;32m    172\u001B[0m     verbose\u001B[38;5;241m=\u001B[39m\u001B[38;5;241m10\u001B[39m)\n\u001B[0;32m--> 173\u001B[0m \u001B[38;5;28;01mreturn\u001B[39;00m \u001B[38;5;28;43mself\u001B[39;49m\u001B[38;5;241;43m.\u001B[39;49m\u001B[43mmodel\u001B[49m\u001B[38;5;241;43m.\u001B[39;49m\u001B[43mfit\u001B[49m\u001B[43m(\u001B[49m\u001B[38;5;28;43mself\u001B[39;49m\u001B[38;5;241;43m.\u001B[39;49m\u001B[43mdata\u001B[49m\u001B[43m)\u001B[49m\n",
      "File \u001B[0;32m~/Documents/work/research-collaboration/changes_to_guardian_ai/guardian-ai/guardian_ai/privacy_estimation/src/recommenders/recommenders/models/ncf/ncf_singlenode.py:405\u001B[0m, in \u001B[0;36mNCF.fit\u001B[0;34m(self, data)\u001B[0m\n\u001B[1;32m    398\u001B[0m     feed_dict \u001B[38;5;241m=\u001B[39m {\n\u001B[1;32m    399\u001B[0m         \u001B[38;5;28mself\u001B[39m\u001B[38;5;241m.\u001B[39muser_input: user_input[\u001B[38;5;241m.\u001B[39m\u001B[38;5;241m.\u001B[39m\u001B[38;5;241m.\u001B[39m, \u001B[38;5;28;01mNone\u001B[39;00m],\n\u001B[1;32m    400\u001B[0m         \u001B[38;5;28mself\u001B[39m\u001B[38;5;241m.\u001B[39mitem_input: item_input[\u001B[38;5;241m.\u001B[39m\u001B[38;5;241m.\u001B[39m\u001B[38;5;241m.\u001B[39m, \u001B[38;5;28;01mNone\u001B[39;00m],\n\u001B[1;32m    401\u001B[0m         \u001B[38;5;28mself\u001B[39m\u001B[38;5;241m.\u001B[39mlabels: labels[\u001B[38;5;241m.\u001B[39m\u001B[38;5;241m.\u001B[39m\u001B[38;5;241m.\u001B[39m, \u001B[38;5;28;01mNone\u001B[39;00m],\n\u001B[1;32m    402\u001B[0m     }\n\u001B[1;32m    404\u001B[0m     \u001B[38;5;66;03m# get loss and execute optimization\u001B[39;00m\n\u001B[0;32m--> 405\u001B[0m     loss, _ \u001B[38;5;241m=\u001B[39m \u001B[38;5;28;43mself\u001B[39;49m\u001B[38;5;241;43m.\u001B[39;49m\u001B[43msess\u001B[49m\u001B[38;5;241;43m.\u001B[39;49m\u001B[43mrun\u001B[49m\u001B[43m(\u001B[49m\u001B[43m[\u001B[49m\u001B[38;5;28;43mself\u001B[39;49m\u001B[38;5;241;43m.\u001B[39;49m\u001B[43mloss\u001B[49m\u001B[43m,\u001B[49m\u001B[43m \u001B[49m\u001B[38;5;28;43mself\u001B[39;49m\u001B[38;5;241;43m.\u001B[39;49m\u001B[43moptimizer\u001B[49m\u001B[43m]\u001B[49m\u001B[43m,\u001B[49m\u001B[43m \u001B[49m\u001B[43mfeed_dict\u001B[49m\u001B[43m)\u001B[49m\n\u001B[1;32m    406\u001B[0m     train_loss\u001B[38;5;241m.\u001B[39mappend(loss)\n\u001B[1;32m    407\u001B[0m train_time \u001B[38;5;241m=\u001B[39m time() \u001B[38;5;241m-\u001B[39m train_begin\n",
      "File \u001B[0;32m/opt/homebrew/lib/python3.11/site-packages/tensorflow/python/client/session.py:972\u001B[0m, in \u001B[0;36mBaseSession.run\u001B[0;34m(self, fetches, feed_dict, options, run_metadata)\u001B[0m\n\u001B[1;32m    969\u001B[0m run_metadata_ptr \u001B[38;5;241m=\u001B[39m tf_session\u001B[38;5;241m.\u001B[39mTF_NewBuffer() \u001B[38;5;28;01mif\u001B[39;00m run_metadata \u001B[38;5;28;01melse\u001B[39;00m \u001B[38;5;28;01mNone\u001B[39;00m\n\u001B[1;32m    971\u001B[0m \u001B[38;5;28;01mtry\u001B[39;00m:\n\u001B[0;32m--> 972\u001B[0m   result \u001B[38;5;241m=\u001B[39m \u001B[38;5;28;43mself\u001B[39;49m\u001B[38;5;241;43m.\u001B[39;49m\u001B[43m_run\u001B[49m\u001B[43m(\u001B[49m\u001B[38;5;28;43;01mNone\u001B[39;49;00m\u001B[43m,\u001B[49m\u001B[43m \u001B[49m\u001B[43mfetches\u001B[49m\u001B[43m,\u001B[49m\u001B[43m \u001B[49m\u001B[43mfeed_dict\u001B[49m\u001B[43m,\u001B[49m\u001B[43m \u001B[49m\u001B[43moptions_ptr\u001B[49m\u001B[43m,\u001B[49m\n\u001B[1;32m    973\u001B[0m \u001B[43m                     \u001B[49m\u001B[43mrun_metadata_ptr\u001B[49m\u001B[43m)\u001B[49m\n\u001B[1;32m    974\u001B[0m   \u001B[38;5;28;01mif\u001B[39;00m run_metadata:\n\u001B[1;32m    975\u001B[0m     proto_data \u001B[38;5;241m=\u001B[39m tf_session\u001B[38;5;241m.\u001B[39mTF_GetBuffer(run_metadata_ptr)\n",
      "File \u001B[0;32m/opt/homebrew/lib/python3.11/site-packages/tensorflow/python/client/session.py:1215\u001B[0m, in \u001B[0;36mBaseSession._run\u001B[0;34m(self, handle, fetches, feed_dict, options, run_metadata)\u001B[0m\n\u001B[1;32m   1212\u001B[0m \u001B[38;5;66;03m# We only want to really perform the run if fetches or targets are provided,\u001B[39;00m\n\u001B[1;32m   1213\u001B[0m \u001B[38;5;66;03m# or if the call is a partial run that specifies feeds.\u001B[39;00m\n\u001B[1;32m   1214\u001B[0m \u001B[38;5;28;01mif\u001B[39;00m final_fetches \u001B[38;5;129;01mor\u001B[39;00m final_targets \u001B[38;5;129;01mor\u001B[39;00m (handle \u001B[38;5;129;01mand\u001B[39;00m feed_dict_tensor):\n\u001B[0;32m-> 1215\u001B[0m   results \u001B[38;5;241m=\u001B[39m \u001B[38;5;28;43mself\u001B[39;49m\u001B[38;5;241;43m.\u001B[39;49m\u001B[43m_do_run\u001B[49m\u001B[43m(\u001B[49m\u001B[43mhandle\u001B[49m\u001B[43m,\u001B[49m\u001B[43m \u001B[49m\u001B[43mfinal_targets\u001B[49m\u001B[43m,\u001B[49m\u001B[43m \u001B[49m\u001B[43mfinal_fetches\u001B[49m\u001B[43m,\u001B[49m\n\u001B[1;32m   1216\u001B[0m \u001B[43m                         \u001B[49m\u001B[43mfeed_dict_tensor\u001B[49m\u001B[43m,\u001B[49m\u001B[43m \u001B[49m\u001B[43moptions\u001B[49m\u001B[43m,\u001B[49m\u001B[43m \u001B[49m\u001B[43mrun_metadata\u001B[49m\u001B[43m)\u001B[49m\n\u001B[1;32m   1217\u001B[0m \u001B[38;5;28;01melse\u001B[39;00m:\n\u001B[1;32m   1218\u001B[0m   results \u001B[38;5;241m=\u001B[39m []\n",
      "File \u001B[0;32m/opt/homebrew/lib/python3.11/site-packages/tensorflow/python/client/session.py:1395\u001B[0m, in \u001B[0;36mBaseSession._do_run\u001B[0;34m(self, handle, target_list, fetch_list, feed_dict, options, run_metadata)\u001B[0m\n\u001B[1;32m   1392\u001B[0m   \u001B[38;5;28;01mreturn\u001B[39;00m \u001B[38;5;28mself\u001B[39m\u001B[38;5;241m.\u001B[39m_call_tf_sessionprun(handle, feed_dict, fetch_list)\n\u001B[1;32m   1394\u001B[0m \u001B[38;5;28;01mif\u001B[39;00m handle \u001B[38;5;129;01mis\u001B[39;00m \u001B[38;5;28;01mNone\u001B[39;00m:\n\u001B[0;32m-> 1395\u001B[0m   \u001B[38;5;28;01mreturn\u001B[39;00m \u001B[38;5;28;43mself\u001B[39;49m\u001B[38;5;241;43m.\u001B[39;49m\u001B[43m_do_call\u001B[49m\u001B[43m(\u001B[49m\u001B[43m_run_fn\u001B[49m\u001B[43m,\u001B[49m\u001B[43m \u001B[49m\u001B[43mfeeds\u001B[49m\u001B[43m,\u001B[49m\u001B[43m \u001B[49m\u001B[43mfetches\u001B[49m\u001B[43m,\u001B[49m\u001B[43m \u001B[49m\u001B[43mtargets\u001B[49m\u001B[43m,\u001B[49m\u001B[43m \u001B[49m\u001B[43moptions\u001B[49m\u001B[43m,\u001B[49m\n\u001B[1;32m   1396\u001B[0m \u001B[43m                       \u001B[49m\u001B[43mrun_metadata\u001B[49m\u001B[43m)\u001B[49m\n\u001B[1;32m   1397\u001B[0m \u001B[38;5;28;01melse\u001B[39;00m:\n\u001B[1;32m   1398\u001B[0m   \u001B[38;5;28;01mreturn\u001B[39;00m \u001B[38;5;28mself\u001B[39m\u001B[38;5;241m.\u001B[39m_do_call(_prun_fn, handle, feeds, fetches)\n",
      "File \u001B[0;32m/opt/homebrew/lib/python3.11/site-packages/tensorflow/python/client/session.py:1421\u001B[0m, in \u001B[0;36mBaseSession._do_call\u001B[0;34m(self, fn, *args)\u001B[0m\n\u001B[1;32m   1416\u001B[0m \u001B[38;5;28;01mif\u001B[39;00m \u001B[38;5;124m'\u001B[39m\u001B[38;5;124monly supports NHWC tensor format\u001B[39m\u001B[38;5;124m'\u001B[39m \u001B[38;5;129;01min\u001B[39;00m message:\n\u001B[1;32m   1417\u001B[0m   message \u001B[38;5;241m+\u001B[39m\u001B[38;5;241m=\u001B[39m (\u001B[38;5;124m'\u001B[39m\u001B[38;5;130;01m\\n\u001B[39;00m\u001B[38;5;124mA possible workaround: Try disabling Grappler optimizer\u001B[39m\u001B[38;5;124m'\u001B[39m\n\u001B[1;32m   1418\u001B[0m               \u001B[38;5;124m'\u001B[39m\u001B[38;5;130;01m\\n\u001B[39;00m\u001B[38;5;124mby modifying the config for creating the session eg.\u001B[39m\u001B[38;5;124m'\u001B[39m\n\u001B[1;32m   1419\u001B[0m               \u001B[38;5;124m'\u001B[39m\u001B[38;5;130;01m\\n\u001B[39;00m\u001B[38;5;124msession_config.graph_options.rewrite_options.\u001B[39m\u001B[38;5;124m'\u001B[39m\n\u001B[1;32m   1420\u001B[0m               \u001B[38;5;124m'\u001B[39m\u001B[38;5;124mdisable_meta_optimizer = True\u001B[39m\u001B[38;5;124m'\u001B[39m)\n\u001B[0;32m-> 1421\u001B[0m \u001B[38;5;28;01mraise\u001B[39;00m \u001B[38;5;28mtype\u001B[39m(e)(node_def, op, message)\n",
      "\u001B[0;31mInvalidArgumentError\u001B[0m: Graph execution error:\n\nDetected at node 'optimizer/Adam/update_embedding/embedding_mlp_Q/mul_5' defined at (most recent call last):\n    File \"<frozen runpy>\", line 198, in _run_module_as_main\n    File \"<frozen runpy>\", line 88, in _run_code\n    File \"/opt/homebrew/lib/python3.11/site-packages/ipykernel_launcher.py\", line 17, in <module>\n    File \"/opt/homebrew/lib/python3.11/site-packages/traitlets/config/application.py\", line 1043, in launch_instance\n    File \"/opt/homebrew/lib/python3.11/site-packages/ipykernel/kernelapp.py\", line 736, in start\n    File \"/opt/homebrew/lib/python3.11/site-packages/tornado/platform/asyncio.py\", line 195, in start\n    File \"/opt/homebrew/Cellar/python@3.11/3.11.7_1/Frameworks/Python.framework/Versions/3.11/lib/python3.11/asyncio/base_events.py\", line 607, in run_forever\n    File \"/opt/homebrew/Cellar/python@3.11/3.11.7_1/Frameworks/Python.framework/Versions/3.11/lib/python3.11/asyncio/base_events.py\", line 1922, in _run_once\n    File \"/opt/homebrew/Cellar/python@3.11/3.11.7_1/Frameworks/Python.framework/Versions/3.11/lib/python3.11/asyncio/events.py\", line 80, in _run\n    File \"/opt/homebrew/lib/python3.11/site-packages/ipykernel/kernelbase.py\", line 516, in dispatch_queue\n    File \"/opt/homebrew/lib/python3.11/site-packages/ipykernel/kernelbase.py\", line 505, in process_one\n    File \"/opt/homebrew/lib/python3.11/site-packages/ipykernel/kernelbase.py\", line 412, in dispatch_shell\n    File \"/opt/homebrew/lib/python3.11/site-packages/ipykernel/kernelbase.py\", line 740, in execute_request\n    File \"/opt/homebrew/lib/python3.11/site-packages/ipykernel/ipkernel.py\", line 422, in do_execute\n    File \"/opt/homebrew/lib/python3.11/site-packages/ipykernel/zmqshell.py\", line 546, in run_cell\n    File \"/opt/homebrew/lib/python3.11/site-packages/IPython/core/interactiveshell.py\", line 3024, in run_cell\n    File \"/opt/homebrew/lib/python3.11/site-packages/IPython/core/interactiveshell.py\", line 3079, in _run_cell\n    File \"/opt/homebrew/lib/python3.11/site-packages/IPython/core/async_helpers.py\", line 129, in _pseudo_sync_runner\n    File \"/opt/homebrew/lib/python3.11/site-packages/IPython/core/interactiveshell.py\", line 3284, in run_cell_async\n    File \"/opt/homebrew/lib/python3.11/site-packages/IPython/core/interactiveshell.py\", line 3466, in run_ast_nodes\n    File \"/opt/homebrew/lib/python3.11/site-packages/IPython/core/interactiveshell.py\", line 3526, in run_code\n    File \"/var/folders/_r/fzfk35hd4y3bcm1sy7r99ywm0000gn/T/ipykernel_11090/3673353111.py\", line 1, in <module>\n    File \"/Users/animesh/Documents/work/research-collaboration/changes_to_guardian_ai/guardian-ai/guardian_ai/privacy_estimation/attack_runner.py\", line 84, in train_collaborative_filtering_models\n    File \"/Users/animesh/Documents/work/research-collaboration/changes_to_guardian_ai/guardian-ai/guardian_ai/privacy_estimation/recommender_model.py\", line 163, in train_model\n    File \"/Users/animesh/Documents/work/research-collaboration/changes_to_guardian_ai/guardian-ai/guardian_ai/privacy_estimation/src/recommenders/recommenders/models/ncf/ncf_singlenode.py\", line 83, in __init__\n    File \"/Users/animesh/Documents/work/research-collaboration/changes_to_guardian_ai/guardian-ai/guardian_ai/privacy_estimation/src/recommenders/recommenders/models/ncf/ncf_singlenode.py\", line 271, in _create_model\nNode: 'optimizer/Adam/update_embedding/embedding_mlp_Q/mul_5'\nIncompatible shapes: [0] vs. [3158,8]\n\t [[{{node optimizer/Adam/update_embedding/embedding_mlp_Q/mul_5}}]]\n\nOriginal stack trace for 'optimizer/Adam/update_embedding/embedding_mlp_Q/mul_5':\n  File \"<frozen runpy>\", line 198, in _run_module_as_main\n  File \"<frozen runpy>\", line 88, in _run_code\n  File \"/opt/homebrew/lib/python3.11/site-packages/ipykernel_launcher.py\", line 17, in <module>\n  File \"/opt/homebrew/lib/python3.11/site-packages/traitlets/config/application.py\", line 1043, in launch_instance\n  File \"/opt/homebrew/lib/python3.11/site-packages/ipykernel/kernelapp.py\", line 736, in start\n  File \"/opt/homebrew/lib/python3.11/site-packages/tornado/platform/asyncio.py\", line 195, in start\n  File \"/opt/homebrew/Cellar/python@3.11/3.11.7_1/Frameworks/Python.framework/Versions/3.11/lib/python3.11/asyncio/base_events.py\", line 607, in run_forever\n  File \"/opt/homebrew/Cellar/python@3.11/3.11.7_1/Frameworks/Python.framework/Versions/3.11/lib/python3.11/asyncio/base_events.py\", line 1922, in _run_once\n  File \"/opt/homebrew/Cellar/python@3.11/3.11.7_1/Frameworks/Python.framework/Versions/3.11/lib/python3.11/asyncio/events.py\", line 80, in _run\n  File \"/opt/homebrew/lib/python3.11/site-packages/ipykernel/kernelbase.py\", line 516, in dispatch_queue\n  File \"/opt/homebrew/lib/python3.11/site-packages/ipykernel/kernelbase.py\", line 505, in process_one\n  File \"/opt/homebrew/lib/python3.11/site-packages/ipykernel/kernelbase.py\", line 412, in dispatch_shell\n  File \"/opt/homebrew/lib/python3.11/site-packages/ipykernel/kernelbase.py\", line 740, in execute_request\n  File \"/opt/homebrew/lib/python3.11/site-packages/ipykernel/ipkernel.py\", line 422, in do_execute\n  File \"/opt/homebrew/lib/python3.11/site-packages/ipykernel/zmqshell.py\", line 546, in run_cell\n  File \"/opt/homebrew/lib/python3.11/site-packages/IPython/core/interactiveshell.py\", line 3024, in run_cell\n  File \"/opt/homebrew/lib/python3.11/site-packages/IPython/core/interactiveshell.py\", line 3079, in _run_cell\n  File \"/opt/homebrew/lib/python3.11/site-packages/IPython/core/async_helpers.py\", line 129, in _pseudo_sync_runner\n  File \"/opt/homebrew/lib/python3.11/site-packages/IPython/core/interactiveshell.py\", line 3284, in run_cell_async\n  File \"/opt/homebrew/lib/python3.11/site-packages/IPython/core/interactiveshell.py\", line 3466, in run_ast_nodes\n  File \"/opt/homebrew/lib/python3.11/site-packages/IPython/core/interactiveshell.py\", line 3526, in run_code\n  File \"/var/folders/_r/fzfk35hd4y3bcm1sy7r99ywm0000gn/T/ipykernel_11090/3673353111.py\", line 1, in <module>\n  File \"/Users/animesh/Documents/work/research-collaboration/changes_to_guardian_ai/guardian-ai/guardian_ai/privacy_estimation/attack_runner.py\", line 84, in train_collaborative_filtering_models\n  File \"/Users/animesh/Documents/work/research-collaboration/changes_to_guardian_ai/guardian-ai/guardian_ai/privacy_estimation/recommender_model.py\", line 163, in train_model\n  File \"/Users/animesh/Documents/work/research-collaboration/changes_to_guardian_ai/guardian-ai/guardian_ai/privacy_estimation/src/recommenders/recommenders/models/ncf/ncf_singlenode.py\", line 83, in __init__\n  File \"/Users/animesh/Documents/work/research-collaboration/changes_to_guardian_ai/guardian-ai/guardian_ai/privacy_estimation/src/recommenders/recommenders/models/ncf/ncf_singlenode.py\", line 271, in _create_model\n  File \"/opt/homebrew/lib/python3.11/site-packages/tensorflow/python/training/optimizer.py\", line 486, in minimize\n  File \"/opt/homebrew/lib/python3.11/site-packages/tensorflow/python/training/optimizer.py\", line 725, in apply_gradients\n  File \"/opt/homebrew/lib/python3.11/site-packages/tensorflow/python/training/optimizer.py\", line 170, in update_op\n  File \"/opt/homebrew/lib/python3.11/site-packages/tensorflow/python/training/optimizer.py\", line 1087, in _resource_apply_sparse_duplicate_indices\n  File \"/opt/homebrew/lib/python3.11/site-packages/tensorflow/python/training/adam.py\", line 290, in _resource_apply_sparse\n  File \"/opt/homebrew/lib/python3.11/site-packages/tensorflow/python/training/adam.py\", line 265, in _apply_sparse_shared\n  File \"/opt/homebrew/lib/python3.11/site-packages/tensorflow/python/ops/variables.py\", line 1013, in _run_op\n  File \"/opt/homebrew/lib/python3.11/site-packages/tensorflow/python/util/traceback_utils.py\", line 150, in error_handler\n  File \"/opt/homebrew/lib/python3.11/site-packages/tensorflow/python/ops/math_ops.py\", line 1478, in binary_op_wrapper\n  File \"/opt/homebrew/lib/python3.11/site-packages/tensorflow/python/ops/math_ops.py\", line 1881, in _mul_dispatch\n  File \"/opt/homebrew/lib/python3.11/site-packages/tensorflow/python/ops/weak_tensor_ops.py\", line 142, in wrapper\n  File \"/opt/homebrew/lib/python3.11/site-packages/tensorflow/python/util/traceback_utils.py\", line 150, in error_handler\n  File \"/opt/homebrew/lib/python3.11/site-packages/tensorflow/python/util/dispatch.py\", line 1260, in op_dispatch_handler\n  File \"/opt/homebrew/lib/python3.11/site-packages/tensorflow/python/ops/math_ops.py\", line 530, in multiply\n  File \"/opt/homebrew/lib/python3.11/site-packages/tensorflow/python/ops/gen_math_ops.py\", line 6764, in mul\n  File \"/opt/homebrew/lib/python3.11/site-packages/tensorflow/python/framework/op_def_library.py\", line 796, in _apply_op_helper\n  File \"/opt/homebrew/lib/python3.11/site-packages/tensorflow/python/framework/ops.py\", line 2652, in _create_op_internal\n  File \"/opt/homebrew/lib/python3.11/site-packages/tensorflow/python/framework/ops.py\", line 1160, in from_node_def\n"
     ]
    }
   ],
   "source": [
    "attack_runner.train_collaborative_filtering_models()"
   ],
   "metadata": {
    "collapsed": false,
    "ExecuteTime": {
     "end_time": "2024-02-25T06:14:22.337312Z",
     "start_time": "2024-02-25T06:14:14.494338Z"
    }
   },
   "id": "443b401988e1ac6e"
  },
  {
   "cell_type": "code",
   "execution_count": null,
   "outputs": [],
   "source": [
    "metric_functions = [\"precision\", \"recall\", \"f1\", \"accuracy\"]\n",
    "result_attacks = []\n",
    "for target_model in attack_runner.target_models:\n",
    "    for shadow_model in attack_runner.shadow_models:\n",
    "       for attack_type in attack_runner.attacks:\n",
    "            result_attack = attack_runner.run_attack(\n",
    "                target_model, shadow_model, attack_type, metric_functions, item_vectors, shadow_model\n",
    "         )\n",
    "            result_attacks.append(result_attack)\n"
   ],
   "metadata": {
    "collapsed": false
   },
   "id": "9806eada6c5930fe"
  }
 ],
 "metadata": {
  "kernelspec": {
   "display_name": "Python 3",
   "language": "python",
   "name": "python3"
  },
  "language_info": {
   "codemirror_mode": {
    "name": "ipython",
    "version": 2
   },
   "file_extension": ".py",
   "mimetype": "text/x-python",
   "name": "python",
   "nbconvert_exporter": "python",
   "pygments_lexer": "ipython2",
   "version": "2.7.6"
  }
 },
 "nbformat": 4,
 "nbformat_minor": 5
}
